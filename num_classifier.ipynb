{
 "cells": [
  {
   "cell_type": "code",
   "execution_count": 1,
   "metadata": {},
   "outputs": [],
   "source": [
    "!pip install -Uqq fastbook\n",
    "import fastbook\n",
    "fastbook.setup_book()\n",
    "from fastai.vision.all import *\n",
    "from fastbook import *\n",
    "from mnist import MNIST"
   ]
  },
  {
   "cell_type": "code",
   "execution_count": 72,
   "metadata": {},
   "outputs": [],
   "source": [
    "def init_params(size, std=0.1):\n",
    "    return (torch.randn(size)*std).requires_grad_()\n",
    "\n",
    "def create_label(x):\n",
    "    t = torch.zeros(10)\n",
    "    t[x] = 1\n",
    "    return t\n",
    "\n",
    "\n",
    "mndata = MNIST('datasets/mnist/')\n",
    "images, labels = mndata.load_training()\n",
    "xd = Tensor(images).float()\n",
    "yd = Tensor(labels).float()\n",
    "\n",
    "weights = init_params((10, 28*28, 1)).float()\n",
    "bias = init_params((10, 1)).float()\n",
    "lr = 0.005\n",
    "train_images = torch.tensor(images).float() / 255.0\n",
    "train_labels = torch.stack([create_label(x) for x in labels]).unsqueeze(2)\n",
    "\n",
    "dset = list(zip(train_images, train_labels))"
   ]
  },
  {
   "cell_type": "code",
   "execution_count": 3,
   "metadata": {},
   "outputs": [],
   "source": [
    "\n",
    "#do poprawy???\n",
    "\n",
    "def linear1(train_data, weights, bias):\n",
    "    return (train_data@weights).T.squeeze(0).unsqueeze(2) + bias\n",
    "\n",
    "def loss_sme(predictions, targets):\n",
    "    return (targets - predictions.sigmoid()).pow(2).mean(dim=0).sqrt()\n",
    "    #return (targets - predictions).abs().mean()\n",
    "\n",
    "def calc_grad(xb, yb, model, weights, bias):\n",
    "    preds = model(xb, weights, bias)\n",
    "    loss = loss_sme(preds, yb)\n",
    "    for l in loss:\n",
    "        l.backward(retain_graph=True)\n",
    "\n",
    "def train_epoch(model, dl, lr, params, bias):\n",
    "    for xb, yb in dl:\n",
    "        calc_grad(xb, yb, model, params, bias)\n",
    "        for i in range(len(params)):\n",
    "            weights[i].data -= weights.grad[i].data * lr\n",
    "            weights.grad[i].zero_()\n",
    "        for bs in bias:\n",
    "            bias.data -= bias.grad.data * lr\n",
    "            bias.grad.zero_()\n",
    "    print(batch_accuracy(linear1(train_images, weights, bias), train_labels).item())\n",
    "            \n",
    "def batch_accuracy(xb, yb):\n",
    "    preds = xb.sigmoid()\n",
    "    return (preds.max(dim=1)[1] == yb.max(dim=1)[1]).float().mean()\n",
    "    "
   ]
  },
  {
   "cell_type": "code",
   "execution_count": 73,
   "metadata": {},
   "outputs": [],
   "source": [
    "dset = list(zip(train_images, train_labels))"
   ]
  },
  {
   "cell_type": "code",
   "execution_count": 82,
   "metadata": {},
   "outputs": [],
   "source": [
    "dl = DataLoader(dset, batch_size=64, shuffle=True)"
   ]
  },
  {
   "cell_type": "code",
   "execution_count": 83,
   "metadata": {
    "scrolled": true
   },
   "outputs": [
    {
     "name": "stdout",
     "output_type": "stream",
     "text": [
      "0.9139833450317383\n",
      "0.9139166474342346\n",
      "0.9141666889190674\n",
      "0.9141333103179932\n",
      "0.9140833616256714\n",
      "0.9142166376113892\n",
      "0.9142000079154968\n",
      "0.9140999913215637\n",
      "0.9140166640281677\n",
      "0.9144999980926514\n",
      "0.9143333435058594\n",
      "0.9143000245094299\n",
      "0.9146000146865845\n",
      "0.9144166707992554\n",
      "0.9146166443824768\n",
      "0.9146166443824768\n",
      "0.9144999980926514\n",
      "0.9146333336830139\n",
      "0.9146166443824768\n",
      "0.9146666526794434\n",
      "0.9143999814987183\n",
      "0.9144333600997925\n",
      "0.914816677570343\n",
      "0.9146166443824768\n",
      "0.9147666692733765\n",
      "0.914900004863739\n",
      "0.9147999882698059\n",
      "0.9149333238601685\n",
      "0.914900004863739\n",
      "0.9150166511535645\n",
      "0.914650022983551\n",
      "0.9149500131607056\n",
      "0.9149500131607056\n",
      "0.9150166511535645\n",
      "0.9152833223342896\n",
      "0.9150833487510681\n",
      "0.915149986743927\n",
      "0.9154499769210815\n",
      "0.9152833223342896\n",
      "0.9154333472251892\n",
      "0.9154333472251892\n",
      "0.9153833389282227\n",
      "0.9153000116348267\n",
      "0.9153500199317932\n",
      "0.9154833555221558\n",
      "0.9154000282287598\n",
      "0.9158499836921692\n",
      "0.9156166911125183\n",
      "0.9156500101089478\n",
      "0.9158666729927063\n",
      "0.9156833291053772\n",
      "0.9156833291053772\n",
      "0.9159833192825317\n",
      "0.9158333539962769\n",
      "0.9158333539962769\n",
      "0.9158499836921692\n",
      "0.9160166382789612\n",
      "0.9158166646957397\n",
      "0.9159500002861023\n",
      "0.9160166382789612\n",
      "0.9161666631698608\n",
      "0.9161333441734314\n",
      "0.9160500168800354\n",
      "0.9163833260536194\n",
      "0.9163166880607605\n",
      "0.9164333343505859\n",
      "0.9164166450500488\n",
      "0.9164166450500488\n",
      "0.9164000153541565\n",
      "0.916450023651123\n",
      "0.9163833260536194\n",
      "0.9164333343505859\n",
      "0.916700005531311\n",
      "0.916533350944519\n",
      "0.9165999889373779\n",
      "0.9164333343505859\n",
      "0.9167333245277405\n",
      "0.9169333577156067\n",
      "0.9165166616439819\n",
      "0.916616678237915\n",
      "0.9165999889373779\n",
      "0.9166666865348816\n",
      "0.9168999791145325\n",
      "0.9170166850090027\n",
      "0.9169666767120361\n",
      "0.9171333312988281\n",
      "0.9171500205993652\n",
      "0.9169833064079285\n",
      "0.9170833230018616\n",
      "0.9169999957084656\n"
     ]
    }
   ],
   "source": [
    "for _ in range(90):\n",
    "    train_epoch(linear1, dl, lr, weights, bias)"
   ]
  },
  {
   "cell_type": "code",
   "execution_count": 87,
   "metadata": {},
   "outputs": [],
   "source": [
    "test = mndata.load_testing()"
   ]
  },
  {
   "cell_type": "code",
   "execution_count": 98,
   "metadata": {},
   "outputs": [],
   "source": [
    "test_images = torch.tensor(test[0]).float() / 255.0\n",
    "test_labels = torch.stack([create_label(x) for x in test[1]]).unsqueeze(2)"
   ]
  },
  {
   "cell_type": "code",
   "execution_count": 100,
   "metadata": {},
   "outputs": [
    {
     "data": {
      "text/plain": [
       "torch.Size([10000, 784])"
      ]
     },
     "execution_count": 100,
     "metadata": {},
     "output_type": "execute_result"
    }
   ],
   "source": [
    "test_images.shape"
   ]
  },
  {
   "cell_type": "code",
   "execution_count": 101,
   "metadata": {},
   "outputs": [
    {
     "data": {
      "text/plain": [
       "torch.Size([60000, 784])"
      ]
     },
     "execution_count": 101,
     "metadata": {},
     "output_type": "execute_result"
    }
   ],
   "source": [
    "train_images.shape"
   ]
  },
  {
   "cell_type": "code",
   "execution_count": 102,
   "metadata": {},
   "outputs": [],
   "source": [
    "predictions = linear1(test_images, weights, bias)"
   ]
  },
  {
   "cell_type": "code",
   "execution_count": 104,
   "metadata": {},
   "outputs": [
    {
     "data": {
      "text/plain": [
       "0.9193000197410583"
      ]
     },
     "execution_count": 104,
     "metadata": {},
     "output_type": "execute_result"
    }
   ],
   "source": [
    "batch_accuracy(predictions, test_labels).item()"
   ]
  },
  {
   "cell_type": "code",
   "execution_count": null,
   "metadata": {},
   "outputs": [],
   "source": []
  }
 ],
 "metadata": {
  "kernelspec": {
   "display_name": "Python 3",
   "language": "python",
   "name": "python3"
  },
  "language_info": {
   "codemirror_mode": {
    "name": "ipython",
    "version": 3
   },
   "file_extension": ".py",
   "mimetype": "text/x-python",
   "name": "python",
   "nbconvert_exporter": "python",
   "pygments_lexer": "ipython3",
   "version": "3.8.6"
  }
 },
 "nbformat": 4,
 "nbformat_minor": 4
}
